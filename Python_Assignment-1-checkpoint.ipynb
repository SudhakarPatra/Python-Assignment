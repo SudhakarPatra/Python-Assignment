{
 "cells": [
  {
   "cell_type": "code",
   "execution_count": 2,
   "metadata": {},
   "outputs": [
    {
     "data": {
      "text/plain": [
       "\"Ans) Values are 'hello', -87.8 , 6\\n        Expressions are * , -, /, + \""
      ]
     },
     "execution_count": 2,
     "metadata": {},
     "output_type": "execute_result"
    }
   ],
   "source": [
    "#Q1)In the below elements which of them are values or an expression? eg:- values can be integer or string and expressions will be mathematical operators.\"\"\"\n",
    "\"\"\"Ans) Values are 'hello', -87.8 , 6\n",
    "        Expressions are * , -, /, + \"\"\"\n"
   ]
  },
  {
   "cell_type": "code",
   "execution_count": null,
   "metadata": {},
   "outputs": [],
   "source": [
    "# Q2)What is the difference between string and variable?\n",
    "\"\"\" Ans) Variable is something in which you store the information. Eg:- a, A, X, Data\n",
    "         String is a sequence of character which is enclosed in single quote or double quote. Eg:- \"Ramu\", 'This is Python.'"
   ]
  },
  {
   "cell_type": "code",
   "execution_count": null,
   "metadata": {},
   "outputs": [],
   "source": [
    "# Q3) Describe three different data types.\n",
    "\"\"\" Ans) String, Integer, Float\n",
    "    String- its combination of character. Eg:- \"Ramu\", 'This is Python.'\n",
    "    Integer- Integer stores whole number. Eg- 12, 3345, -678\n",
    "    Float- it stores real number with decimal points. Eg- 34.897 \"\"\""
   ]
  },
  {
   "cell_type": "code",
   "execution_count": null,
   "metadata": {},
   "outputs": [],
   "source": [
    "# Q4)What is an expression made up of? What do all expressions do?\n",
    "\"\"\" Ans) an expression is an instruction that combines values and operators. its made up of variable, operater.\"\"\" "
   ]
  },
  {
   "cell_type": "code",
   "execution_count": null,
   "metadata": {},
   "outputs": [],
   "source": [
    "# Q5)This assignment statements, like spam = 10. What is the difference between an expression and a statement?\n",
    "\"\"\" Ans) Statement is an instruction that the Python interpreter can execute but expression is a combination of values, variables, operators, and calls to functions. Expressions need to be evaluated. \"\"\""
   ]
  },
  {
   "cell_type": "code",
   "execution_count": null,
   "metadata": {},
   "outputs": [],
   "source": [
    "# Q6) After running the following code, what does the variable bacon contain?\n",
    "# Ans) 23"
   ]
  },
  {
   "cell_type": "code",
   "execution_count": null,
   "metadata": {},
   "outputs": [],
   "source": [
    "# Q7) What should the values of the following two terms be?\n",
    "\"\"\"Ans) 'spamspamspam'\n",
    "        'spamspamspam' \"\"\""
   ]
  },
  {
   "cell_type": "code",
   "execution_count": null,
   "metadata": {},
   "outputs": [],
   "source": [
    "# Q8) Why is eggs a valid variable name while 100 is invalid?\n",
    "\"\"\"Ans) variable can't start with a number but it can be cahracter\"\"\""
   ]
  },
  {
   "cell_type": "code",
   "execution_count": null,
   "metadata": {},
   "outputs": [],
   "source": [
    "# Q9) What three functions can be used to get the integer, floating-point number, or string version of a value?\n",
    "# Ans) int(), float() and str()"
   ]
  },
  {
   "cell_type": "code",
   "execution_count": 12,
   "metadata": {},
   "outputs": [
    {
     "data": {
      "text/plain": [
       "'I have eaten 99 Burritos'"
      ]
     },
     "execution_count": 12,
     "metadata": {},
     "output_type": "execute_result"
    }
   ],
   "source": [
    "# Q10) Why does this expression cause an error? How can you fix it?\n",
    "# Ans) because you can't add string and integer. Need to typecast the integer to fix it\n",
    "'I have eaten '+ str(99) + ' Burritos'"
   ]
  }
 ],
 "metadata": {
  "kernelspec": {
   "display_name": "Python 3",
   "language": "python",
   "name": "python3"
  },
  "language_info": {
   "codemirror_mode": {
    "name": "ipython",
    "version": 3
   },
   "file_extension": ".py",
   "mimetype": "text/x-python",
   "name": "python",
   "nbconvert_exporter": "python",
   "pygments_lexer": "ipython3",
   "version": "3.8.5"
  }
 },
 "nbformat": 4,
 "nbformat_minor": 4
}
